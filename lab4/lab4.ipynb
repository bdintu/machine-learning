{
 "cells": [
  {
   "cell_type": "code",
   "execution_count": 1,
   "metadata": {},
   "outputs": [],
   "source": [
    "import re\n",
    "import csv\n",
    "import numpy as np\n",
    "import networkx as nx\n",
    "import matplotlib.pyplot as plt\n",
    "\n",
    "from numpy.lib.recfunctions import append_fields, drop_fields\n",
    "from matplotlib.patches import Ellipse\n",
    "\n",
    "from sklearn.metrics.pairwise import cosine_similarity\n",
    "from sklearn.cluster import KMeans\n",
    "from sklearn.mixture import GaussianMixture"
   ]
  },
  {
   "cell_type": "code",
   "execution_count": 2,
   "metadata": {},
   "outputs": [],
   "source": [
    "plt.rcParams['figure.figsize'] = (8, 8)\n",
    "plt.style.use('ggplot')"
   ]
  },
  {
   "cell_type": "code",
   "execution_count": 3,
   "metadata": {},
   "outputs": [],
   "source": [
    "dir = 'ml-latest-small'\n",
    "genres = np.array(['Action', 'Adventure', 'Animation', \"Children\", 'Comedy', 'Crime', 'Documentary', 'Drama', 'Fantasy', 'Film-Noir', 'Horror', 'IMAX', 'Musical', 'Mystery', 'Romance', 'Sci-Fi', 'Thriller', 'War', 'Western', '(no genres listed)'])"
   ]
  },
  {
   "cell_type": "markdown",
   "metadata": {},
   "source": [
    "## Precessing"
   ]
  },
  {
   "cell_type": "markdown",
   "metadata": {},
   "source": [
    "### Ratings"
   ]
  },
  {
   "cell_type": "code",
   "execution_count": 4,
   "metadata": {},
   "outputs": [
    {
     "data": {
      "text/plain": [
       "array([(  1,      1, 4., 2000), (  1,      3, 4., 2000),\n",
       "       (  1,      6, 4., 2000), ..., (610, 168250, 5., 2017),\n",
       "       (610, 168252, 5., 2017), (610, 170875, 3., 2017)],\n",
       "      dtype=[('userId', '<i8'), ('movieId', '<i8'), ('rating', '<f8'), ('year', '<i8')])"
      ]
     },
     "execution_count": 4,
     "metadata": {},
     "output_type": "execute_result"
    }
   ],
   "source": [
    "ratings = np.genfromtxt(\n",
    "    f'{dir}/ratings.csv',\n",
    "    delimiter=',',\n",
    "    names=True,\n",
    "    dtype=None,\n",
    ")\n",
    "\n",
    "ratings_year = ratings['timestamp'].astype('<M8[s]').astype('datetime64[Y]').astype(np.int64) + 1970\n",
    "ratings = append_fields(ratings, 'year', ratings_year)\n",
    "ratings = drop_fields(ratings, 'timestamp')\n",
    "\n",
    "ratings"
   ]
  },
  {
   "cell_type": "markdown",
   "metadata": {},
   "source": [
    "### Movies"
   ]
  },
  {
   "cell_type": "code",
   "execution_count": 5,
   "metadata": {},
   "outputs": [
    {
     "name": "stderr",
     "output_type": "stream",
     "text": [
      "/usr/local/lib/python3.6/dist-packages/ipykernel_launcher.py:9: ConversionWarning: Some errors were detected !\n",
      "    Line #3203 (got 2 columns instead of 3)\n",
      "    Line #5730 (got 2 columns instead of 3)\n",
      "    Line #7557 (got 2 columns instead of 3)\n",
      "  if __name__ == '__main__':\n",
      "/usr/local/lib/python3.6/dist-packages/ipykernel_launcher.py:9: VisibleDeprecationWarning: Reading unicode strings without specifying the encoding argument is deprecated. Set the encoding, use None for the system default.\n",
      "  if __name__ == '__main__':\n"
     ]
    },
    {
     "data": {
      "text/plain": [
       "masked_array(data=[(1, 'Toy Story (1995)', 'Adventure|Animation|Children|Comedy|Fantasy', 1995.0),\n",
       "                   (2, 'Jumanji (1995)', 'Adventure|Children|Fantasy', 1995.0),\n",
       "                   (3, 'Grumpier Old Men (1995)', 'Comedy|Romance', 1995.0),\n",
       "                   ..., (193585, 'Flint (2017)', 'Drama', 2017.0),\n",
       "                   (193587, 'Bungo Stray Dogs: Dead Apple (2018)', 'Action|Animation', 2018.0),\n",
       "                   (193609, 'Andrew Dice Clay: Dice Rules (1991)', 'Comedy', 1991.0)],\n",
       "             mask=[(False, False, False, False),\n",
       "                   (False, False, False, False),\n",
       "                   (False, False, False, False), ...,\n",
       "                   (False, False, False, False),\n",
       "                   (False, False, False, False),\n",
       "                   (False, False, False, False)],\n",
       "       fill_value=(999999, 'N/A', 'N/A', 1.e+20),\n",
       "            dtype=[('movieId', '<i8'), ('title', '<U158'), ('genres', '<U77'), ('year', '<f8')])"
      ]
     },
     "execution_count": 5,
     "metadata": {},
     "output_type": "execute_result"
    }
   ],
   "source": [
    "with open(f'{dir}/movies.csv') as csvfile:\n",
    "    reader = csv.reader(csvfile, delimiter=',')\n",
    "    movies_csv  = ('\\t'.join(i) for i in reader)\n",
    "    movies = np.genfromtxt(\n",
    "        movies_csv,\n",
    "        delimiter='\\t',\n",
    "        names=True,\n",
    "        dtype=None,\n",
    "        invalid_raise=False,\n",
    "    )\n",
    "\n",
    "year_patten = ' \\((\\d{4})\\)'\n",
    "movies_year = np.array([int(re.search(year_patten, i).group(1)) if re.search(year_patten, i) else np.nan for i in movies['title']])\n",
    "movies = append_fields(movies, 'year', movies_year)\n",
    "\n",
    "movies"
   ]
  },
  {
   "cell_type": "markdown",
   "metadata": {},
   "source": [
    "### One-Hot genres in movies"
   ]
  },
  {
   "cell_type": "code",
   "execution_count": 6,
   "metadata": {},
   "outputs": [
    {
     "data": {
      "text/plain": [
       "array([(0, 1, 1, 1, 1, 0, 0, 0, 1, 0, 0, 0, 0, 0, 0, 0, 0, 0, 0, 0),\n",
       "       (0, 1, 0, 1, 0, 0, 0, 0, 1, 0, 0, 0, 0, 0, 0, 0, 0, 0, 0, 0),\n",
       "       (0, 0, 0, 0, 1, 0, 0, 0, 0, 0, 0, 0, 0, 0, 1, 0, 0, 0, 0, 0), ...,\n",
       "       (0, 0, 0, 0, 0, 0, 0, 1, 0, 0, 0, 0, 0, 0, 0, 0, 0, 0, 0, 0),\n",
       "       (1, 0, 1, 0, 0, 0, 0, 0, 0, 0, 0, 0, 0, 0, 0, 0, 0, 0, 0, 0),\n",
       "       (0, 0, 0, 0, 1, 0, 0, 0, 0, 0, 0, 0, 0, 0, 0, 0, 0, 0, 0, 0)],\n",
       "      dtype=[('Action', 'i1'), ('Adventure', 'i1'), ('Animation', 'i1'), ('Children', 'i1'), ('Comedy', 'i1'), ('Crime', 'i1'), ('Documentary', 'i1'), ('Drama', 'i1'), ('Fantasy', 'i1'), ('Film-Noir', 'i1'), ('Horror', 'i1'), ('IMAX', 'i1'), ('Musical', 'i1'), ('Mystery', 'i1'), ('Romance', 'i1'), ('Sci-Fi', 'i1'), ('Thriller', 'i1'), ('War', 'i1'), ('Western', 'i1'), ('(no genres listed)', 'i1')])"
      ]
     },
     "execution_count": 6,
     "metadata": {},
     "output_type": "execute_result"
    }
   ],
   "source": [
    "movies_genres = np.array(np.zeros(movies.shape[0], dtype=bool), dtype=[(i, '<b') for i in genres])\n",
    "\n",
    "for i, genre_str in enumerate(movies['genres']):\n",
    "    genre_list = genre_str.split('|')\n",
    "    movies_genres[genre_list][i] = True\n",
    "\n",
    "movies_genres"
   ]
  },
  {
   "cell_type": "markdown",
   "metadata": {},
   "source": [
    "## Plot Chart"
   ]
  },
  {
   "cell_type": "code",
   "execution_count": 7,
   "metadata": {},
   "outputs": [
    {
     "data": {
      "text/plain": [
       "<BarContainer object of 119 artists>"
      ]
     },
     "execution_count": 7,
     "metadata": {},
     "output_type": "execute_result"
    },
    {
     "data": {
      "image/png": "[encoded data removed]",
      "text/plain": [
       "<Figure size 576x576 with 1 Axes>"
      ]
     },
     "metadata": {},
     "output_type": "display_data"
    }
   ],
   "source": [
    "movies_year, movies_count = np.unique(movies['year'], return_counts=True)\n",
    "\n",
    "plt.title('Released movie each year')\n",
    "plt.bar(movies_year, movies_count)"
   ]
  },
  {
   "cell_type": "code",
   "execution_count": 8,
   "metadata": {},
   "outputs": [
    {
     "data": {
      "text/plain": [
       "<BarContainer object of 23 artists>"
      ]
     },
     "execution_count": 8,
     "metadata": {},
     "output_type": "execute_result"
    },
    {
     "data": {
      "image/png": "[encoded data removed]",
      "text/plain": [
       "<Figure size 576x576 with 1 Axes>"
      ]
     },
     "metadata": {},
     "output_type": "display_data"
    }
   ],
   "source": [
    "ratings_year, ratings_count = np.unique(ratings['year'], return_counts=True)\n",
    "\n",
    "plt.title('Rating movie each year')\n",
    "plt.bar(ratings_year, ratings_count)"
   ]
  },
  {
   "cell_type": "code",
   "execution_count": 9,
   "metadata": {},
   "outputs": [
    {
     "data": {
      "text/plain": [
       "<BarContainer object of 20 artists>"
      ]
     },
     "execution_count": 9,
     "metadata": {},
     "output_type": "execute_result"
    },
    {
     "data": {
      "image/png": "[encoded data removed]",
      "text/plain": [
       "<Figure size 576x576 with 1 Axes>"
      ]
     },
     "metadata": {},
     "output_type": "display_data"
    }
   ],
   "source": [
    "genres_count = movies_genres.view(np.bool).reshape(-1, genres.shape[0]).sum(axis=0)\n",
    "\n",
    "plt.title('Movie each genre')\n",
    "plt.bar(genres, genres_count)"
   ]
  },
  {
   "cell_type": "code",
   "execution_count": 10,
   "metadata": {},
   "outputs": [
    {
     "data": {
      "text/plain": [
       "Text(0.5, 1.0, 'Movie each genre each year')"
      ]
     },
     "execution_count": 10,
     "metadata": {},
     "output_type": "execute_result"
    },
    {
     "data": {
      "image/png": "[encoded data removed]",
      "text/plain": [
       "<Figure size 576x576 with 1 Axes>"
      ]
     },
     "metadata": {},
     "output_type": "display_data"
    }
   ],
   "source": [
    "plt.title('Movie each genre each year')"
   ]
  },
  {
   "cell_type": "code",
   "execution_count": 11,
   "metadata": {},
   "outputs": [
    {
     "data": {
      "text/plain": [
       "(array([ 108.,  185.,  309.,  694.,  962., 1840., 2211., 2275.,  798.,\n",
       "         342.]),\n",
       " array([0.5 , 0.95, 1.4 , 1.85, 2.3 , 2.75, 3.2 , 3.65, 4.1 , 4.55, 5.  ]),\n",
       " <a list of 10 Patch objects>)"
      ]
     },
     "execution_count": 11,
     "metadata": {},
     "output_type": "execute_result"
    },
    {
     "data": {
      "image/png": "[encoded data removed]",
      "text/plain": [
       "<Figure size 576x576 with 1 Axes>"
      ]
     },
     "metadata": {},
     "output_type": "display_data"
    }
   ],
   "source": [
    "movie_id, movie_idx, movie_count = np.unique(ratings['movieId'], return_inverse=True, return_counts=True)\n",
    "movie_sum = np.bincount(movie_idx, weights=ratings['rating'])\n",
    "movie_mean = movie_sum / movie_count\n",
    "\n",
    "plt.title('Hist of movie rating')\n",
    "plt.hist(movie_mean)"
   ]
  },
  {
   "cell_type": "markdown",
   "metadata": {},
   "source": [
    "## Rec Sys from user_martix"
   ]
  },
  {
   "cell_type": "markdown",
   "metadata": {},
   "source": [
    "### One-Hot user review"
   ]
  },
  {
   "cell_type": "code",
   "execution_count": 18,
   "metadata": {
    "scrolled": true
   },
   "outputs": [
    {
     "name": "stdout",
     "output_type": "stream",
     "text": [
      "no field of name 85354\n",
      "no field of name 4317\n",
      "no field of name 85354\n",
      "no field of name 85354\n",
      "no field of name 27899\n",
      "no field of name 4317\n",
      "no field of name 27899\n",
      "no field of name 4317\n"
     ]
    }
   ],
   "source": [
    "user_id = np.unique(ratings['userId'])\n",
    "user_ratings = np.array(np.zeros(user_id.shape[0]), dtype=[(str(i), '<f8') for i in movies['movieId']])\n",
    "\n",
    "for i, rating in enumerate(ratings):\n",
    "    try:\n",
    "        user_ratings[str(rating['movieId'])][rating['userId'] -1] = rating['rating']\n",
    "    except Exception as e:\n",
    "        print(e)"
   ]
  },
  {
   "cell_type": "markdown",
   "metadata": {},
   "source": [
    "### Cosine Similarity"
   ]
  },
  {
   "cell_type": "code",
   "execution_count": 52,
   "metadata": {},
   "outputs": [],
   "source": [
    "user_id_choice = np.random.choice(user_id, 20)\n",
    "user_rating_choice = user_ratings[user_id_choice].view(np.float64).reshape(-1, movies['movieId'].shape[0])\n",
    "\n",
    "user_cse = cosine_similarity(user_rating_choice)\n",
    "\n",
    "# user_cse"
   ]
  },
  {
   "cell_type": "markdown",
   "metadata": {},
   "source": [
    "### Standard Correlation Coefficient"
   ]
  },
  {
   "cell_type": "code",
   "execution_count": 67,
   "metadata": {},
   "outputs": [],
   "source": [
    "user_cof = np.corrcoef(user_rating_choice)\n",
    "\n",
    "# user_cof"
   ]
  },
  {
   "cell_type": "markdown",
   "metadata": {},
   "source": [
    "### Table of ..."
   ]
  },
  {
   "cell_type": "code",
   "execution_count": 32,
   "metadata": {},
   "outputs": [],
   "source": [
    "#"
   ]
  },
  {
   "cell_type": "markdown",
   "metadata": {},
   "source": [
    "## Rec Sys from item_matrix"
   ]
  },
  {
   "cell_type": "code",
   "execution_count": 68,
   "metadata": {},
   "outputs": [],
   "source": [
    "movie_id_choice = np.random.choice(movies.shape[0], 20)\n",
    "movie_genres_choice = movies_genres[movie_id_choice].view(np.bool).reshape(-1, genres.shape[0])"
   ]
  },
  {
   "cell_type": "code",
   "execution_count": 72,
   "metadata": {},
   "outputs": [],
   "source": [
    "movie_cse = cosine_similarity(movie_genres_choice)\n",
    "movie_cof = np.corrcoef(movie_genres_choice)"
   ]
  }
 ],
 "metadata": {
  "kernelspec": {
   "display_name": "Python 3",
   "language": "python",
   "name": "python3"
  },
  "language_info": {
   "codemirror_mode": {
    "name": "ipython",
    "version": 3
   },
   "file_extension": ".py",
   "mimetype": "text/x-python",
   "name": "python",
   "nbconvert_exporter": "python",
   "pygments_lexer": "ipython3",
   "version": "3.6.8"
  }
 },
 "nbformat": 4,
 "nbformat_minor": 2
}
