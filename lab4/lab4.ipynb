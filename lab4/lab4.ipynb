{
 "cells": [
  {
   "cell_type": "code",
   "execution_count": 1,
   "metadata": {},
   "outputs": [],
   "source": [
    "import re\n",
    "import csv\n",
    "import numpy as np\n",
    "import networkx as nx\n",
    "import matplotlib.pyplot as plt\n",
    "\n",
    "from numpy.lib.recfunctions import append_fields, drop_fields\n",
    "from matplotlib.patches import Ellipse\n",
    "from matplotlib.lines import Line2D\n",
    "\n",
    "from sklearn.metrics.pairwise import cosine_similarity\n",
    "from sklearn.cluster import KMeans\n",
    "from sklearn.mixture import GaussianMixture"
   ]
  },
  {
   "cell_type": "code",
   "execution_count": 2,
   "metadata": {},
   "outputs": [],
   "source": [
    "plt.rcParams['figure.figsize'] = (8, 8)\n",
    "# plt.style.use('ggplot')"
   ]
  },
  {
   "cell_type": "code",
   "execution_count": 3,
   "metadata": {},
   "outputs": [],
   "source": [
    "dir = 'ml-latest-small'\n",
    "genres = np.array(['Action', 'Adventure', 'Animation', \"Children\", 'Comedy', 'Crime', 'Documentary', 'Drama', 'Fantasy', 'Film-Noir', 'Horror', 'IMAX', 'Musical', 'Mystery', 'Romance', 'Sci-Fi', 'Thriller', 'War', 'Western', '(no genres listed)'])"
   ]
  },
  {
   "cell_type": "markdown",
   "metadata": {},
   "source": [
    "## Precessing"
   ]
  },
  {
   "cell_type": "markdown",
   "metadata": {},
   "source": [
    "### Ratings"
   ]
  },
  {
   "cell_type": "code",
   "execution_count": 4,
   "metadata": {},
   "outputs": [
    {
     "data": {
      "text/plain": [
       "array([(  1,      1, 4., 2000), (  1,      3, 4., 2000),\n",
       "       (  1,      6, 4., 2000), ..., (610, 168250, 5., 2017),\n",
       "       (610, 168252, 5., 2017), (610, 170875, 3., 2017)],\n",
       "      dtype=[('userId', '<i8'), ('movieId', '<i8'), ('rating', '<f8'), ('year', '<i8')])"
      ]
     },
     "execution_count": 4,
     "metadata": {},
     "output_type": "execute_result"
    }
   ],
   "source": [
    "ratings = np.genfromtxt(\n",
    "    f'{dir}/ratings.csv',\n",
    "    delimiter=',',\n",
    "    names=True,\n",
    "    dtype=None,\n",
    ")\n",
    "\n",
    "ratings_year = ratings['timestamp'].astype('<M8[s]').astype('datetime64[Y]').astype(np.int64) + 1970\n",
    "ratings = append_fields(ratings, 'year', ratings_year)\n",
    "ratings = drop_fields(ratings, 'timestamp')\n",
    "\n",
    "ratings"
   ]
  },
  {
   "cell_type": "markdown",
   "metadata": {},
   "source": [
    "### Movies"
   ]
  },
  {
   "cell_type": "code",
   "execution_count": 5,
   "metadata": {},
   "outputs": [
    {
     "name": "stderr",
     "output_type": "stream",
     "text": [
      "/usr/local/lib/python3.6/dist-packages/ipykernel_launcher.py:9: ConversionWarning: Some errors were detected !\n",
      "    Line #3203 (got 2 columns instead of 3)\n",
      "    Line #5730 (got 2 columns instead of 3)\n",
      "    Line #7557 (got 2 columns instead of 3)\n",
      "  if __name__ == '__main__':\n",
      "/usr/local/lib/python3.6/dist-packages/ipykernel_launcher.py:9: VisibleDeprecationWarning: Reading unicode strings without specifying the encoding argument is deprecated. Set the encoding, use None for the system default.\n",
      "  if __name__ == '__main__':\n"
     ]
    },
    {
     "data": {
      "text/plain": [
       "masked_array(data=[(1, 'Toy Story (1995)', 'Adventure|Animation|Children|Comedy|Fantasy', 1995.0),\n",
       "                   (2, 'Jumanji (1995)', 'Adventure|Children|Fantasy', 1995.0),\n",
       "                   (3, 'Grumpier Old Men (1995)', 'Comedy|Romance', 1995.0),\n",
       "                   ..., (193585, 'Flint (2017)', 'Drama', 2017.0),\n",
       "                   (193587, 'Bungo Stray Dogs: Dead Apple (2018)', 'Action|Animation', 2018.0),\n",
       "                   (193609, 'Andrew Dice Clay: Dice Rules (1991)', 'Comedy', 1991.0)],\n",
       "             mask=[(False, False, False, False),\n",
       "                   (False, False, False, False),\n",
       "                   (False, False, False, False), ...,\n",
       "                   (False, False, False, False),\n",
       "                   (False, False, False, False),\n",
       "                   (False, False, False, False)],\n",
       "       fill_value=(999999, 'N/A', 'N/A', 1.e+20),\n",
       "            dtype=[('movieId', '<i8'), ('title', '<U158'), ('genres', '<U77'), ('year', '<f8')])"
      ]
     },
     "execution_count": 5,
     "metadata": {},
     "output_type": "execute_result"
    }
   ],
   "source": [
    "with open(f'{dir}/movies.csv') as csvfile:\n",
    "    reader = csv.reader(csvfile, delimiter=',')\n",
    "    movies_csv  = ('\\t'.join(i) for i in reader)\n",
    "    movies = np.genfromtxt(\n",
    "        movies_csv,\n",
    "        delimiter='\\t',\n",
    "        names=True,\n",
    "        dtype=None,\n",
    "        invalid_raise=False,\n",
    "    )\n",
    "\n",
    "year_patten = ' \\((\\d{4})\\)'\n",
    "movies_year = np.array([int(re.search(year_patten, i).group(1)) if re.search(year_patten, i) else np.nan for i in movies['title']])\n",
    "movies = append_fields(movies, 'year', movies_year)\n",
    "\n",
    "movies"
   ]
  },
  {
   "cell_type": "markdown",
   "metadata": {},
   "source": [
    "### One-Hot genres in movies"
   ]
  },
  {
   "cell_type": "code",
   "execution_count": 6,
   "metadata": {},
   "outputs": [
    {
     "data": {
      "text/plain": [
       "(9739,)"
      ]
     },
     "execution_count": 6,
     "metadata": {},
     "output_type": "execute_result"
    }
   ],
   "source": [
    "movies_genres = np.array(np.zeros(movies.shape[0], dtype=bool), dtype=[(i, '<b') for i in genres])\n",
    "\n",
    "for i, genre_str in enumerate(movies['genres']):\n",
    "    genre_list = genre_str.split('|')\n",
    "    movies_genres[genre_list][i] = True\n",
    "\n",
    "movies_genres.shape"
   ]
  },
  {
   "cell_type": "markdown",
   "metadata": {},
   "source": [
    "## Plot Chart"
   ]
  },
  {
   "cell_type": "code",
   "execution_count": 7,
   "metadata": {},
   "outputs": [
    {
     "data": {
      "text/plain": [
       "<BarContainer object of 119 artists>"
      ]
     },
     "execution_count": 7,
     "metadata": {},
     "output_type": "execute_result"
    },
    {
     "data": {
      "image/png": "[encoded data removed]",
      "text/plain": [
       "<Figure size 576x576 with 1 Axes>"
      ]
     },
     "metadata": {
      "needs_background": "light"
     },
     "output_type": "display_data"
    }
   ],
   "source": [
    "movies_year, movies_count = np.unique(movies['year'], return_counts=True)\n",
    "\n",
    "plt.title('Released movie each year')\n",
    "plt.bar(movies_year, movies_count)"
   ]
  },
  {
   "cell_type": "code",
   "execution_count": 8,
   "metadata": {},
   "outputs": [
    {
     "data": {
      "text/plain": [
       "<BarContainer object of 23 artists>"
      ]
     },
     "execution_count": 8,
     "metadata": {},
     "output_type": "execute_result"
    },
    {
     "data": {
      "image/png": "[encoded data removed]",
      "text/plain": [
       "<Figure size 576x576 with 1 Axes>"
      ]
     },
     "metadata": {
      "needs_background": "light"
     },
     "output_type": "display_data"
    }
   ],
   "source": [
    "ratings_nonzero = ratings[np.nonzero(ratings['rating'])]\n",
    "ratings_year, ratings_count = np.unique(ratings_nonzero['year'], return_counts=True)\n",
    "\n",
    "plt.title('Rating movie each year')\n",
    "plt.bar(ratings_year, ratings_count)"
   ]
  },
  {
   "cell_type": "code",
   "execution_count": 9,
   "metadata": {},
   "outputs": [
    {
     "data": {
      "text/plain": [
       "<BarContainer object of 20 artists>"
      ]
     },
     "execution_count": 9,
     "metadata": {},
     "output_type": "execute_result"
    },
    {
     "data": {
      "image/png": "[encoded data removed]",
      "text/plain": [
       "<Figure size 576x576 with 1 Axes>"
      ]
     },
     "metadata": {
      "needs_background": "light"
     },
     "output_type": "display_data"
    }
   ],
   "source": [
    "genres_count = movies_genres.view(np.bool).reshape(-1, genres.shape[0]).sum(axis=0)\n",
    "\n",
    "plt.title('Movie each genre')\n",
    "plt.bar(genres, genres_count)"
   ]
  },
  {
   "cell_type": "code",
   "execution_count": 10,
   "metadata": {},
   "outputs": [
    {
     "data": {
      "text/plain": [
       "<matplotlib.legend.Legend at 0x7fe15d04a518>"
      ]
     },
     "execution_count": 10,
     "metadata": {},
     "output_type": "execute_result"
    },
    {
     "data": {
      "image/png": "[encoded data removed]",
      "text/plain": [
       "<Figure size 576x576 with 1 Axes>"
      ]
     },
     "metadata": {
      "needs_background": "light"
     },
     "output_type": "display_data"
    }
   ],
   "source": [
    "movie_year_idx = {i: (movies['year'] == i).nonzero()[0] for i in np.unique(movies['year'])}\n",
    "movie_year_count = [movies_genres[movie_year_idx[i]].view(np.bool).reshape(-1, genres.shape[0]).sum(axis=0) for i in movie_year_idx.keys()]\n",
    "movie_genres_count = np.stack(movie_year_count, axis=0).T\n",
    "\n",
    "plt.title('Movie each genre each year')\n",
    "for genres_count in movie_genres_count:\n",
    "    plt.bar(movie_year_idx.keys(), genres_count, 0.5)\n",
    "plt.legend(genres)"
   ]
  },
  {
   "cell_type": "code",
   "execution_count": 11,
   "metadata": {},
   "outputs": [
    {
     "data": {
      "text/plain": [
       "(array([  96.,    0.,   12.,    0.,  150.,    8.,   16.,   11.,  218.,\n",
       "           8.,   22.,   61.,   34.,  450.,   85.,  125.,  144.,  559.,\n",
       "          98.,  161.,  312.,  185., 1050.,  293.,  400.,  379., 1123.,\n",
       "         309.,  529.,  343.,  265., 1138.,  185.,  176.,   58.,  379.,\n",
       "           7.,   36.,    2.,  297.]),\n",
       " array([0.5   , 0.6125, 0.725 , 0.8375, 0.95  , 1.0625, 1.175 , 1.2875,\n",
       "        1.4   , 1.5125, 1.625 , 1.7375, 1.85  , 1.9625, 2.075 , 2.1875,\n",
       "        2.3   , 2.4125, 2.525 , 2.6375, 2.75  , 2.8625, 2.975 , 3.0875,\n",
       "        3.2   , 3.3125, 3.425 , 3.5375, 3.65  , 3.7625, 3.875 , 3.9875,\n",
       "        4.1   , 4.2125, 4.325 , 4.4375, 4.55  , 4.6625, 4.775 , 4.8875,\n",
       "        5.    ]),\n",
       " <a list of 40 Patch objects>)"
      ]
     },
     "execution_count": 11,
     "metadata": {},
     "output_type": "execute_result"
    },
    {
     "data": {
      "image/png": "[encoded data removed]",
      "text/plain": [
       "<Figure size 576x576 with 1 Axes>"
      ]
     },
     "metadata": {
      "needs_background": "light"
     },
     "output_type": "display_data"
    }
   ],
   "source": [
    "movie_id, movie_idx, movie_count = np.unique(ratings_nonzero['movieId'], return_inverse=True, return_counts=True)\n",
    "movie_sum = np.bincount(movie_idx, weights=ratings_nonzero['rating'])\n",
    "movie_mean = movie_sum / movie_count\n",
    "\n",
    "plt.title('Hist of movie rating')\n",
    "plt.hist(movie_mean, bins=40)"
   ]
  },
  {
   "cell_type": "markdown",
   "metadata": {},
   "source": [
    "## Rec Sys from user_martix"
   ]
  },
  {
   "cell_type": "markdown",
   "metadata": {},
   "source": [
    "### One-Hot user review"
   ]
  },
  {
   "cell_type": "code",
   "execution_count": 12,
   "metadata": {
    "scrolled": true
   },
   "outputs": [
    {
     "name": "stdout",
     "output_type": "stream",
     "text": [
      "no field of name 85354\n",
      "no field of name 4317\n",
      "no field of name 85354\n",
      "no field of name 85354\n",
      "no field of name 27899\n",
      "no field of name 4317\n",
      "no field of name 27899\n",
      "no field of name 4317\n"
     ]
    }
   ],
   "source": [
    "user_id = np.unique(ratings['userId'])\n",
    "user_ratings = np.array(np.zeros(user_id.shape[0]), dtype=[(str(i), '<f8') for i in movies['movieId']])\n",
    "\n",
    "for i, rating in enumerate(ratings):\n",
    "    try:\n",
    "        user_ratings[str(rating['movieId'])][rating['userId'] -1] = rating['rating']\n",
    "    except Exception as e:\n",
    "        print(e)"
   ]
  },
  {
   "cell_type": "markdown",
   "metadata": {},
   "source": [
    "### Cosine Similarity"
   ]
  },
  {
   "cell_type": "code",
   "execution_count": 13,
   "metadata": {},
   "outputs": [],
   "source": [
    "N_CHOICE = 20\n",
    "user_id_choice = np.random.choice(user_id, N_CHOICE)\n",
    "user_rating_choice = user_ratings[user_id_choice].view(np.float64).reshape(-1, movies['movieId'].shape[0])\n",
    "\n",
    "user_cse = cosine_similarity(user_rating_choice)\n",
    "\n",
    "# user_cse1"
   ]
  },
  {
   "cell_type": "markdown",
   "metadata": {},
   "source": [
    "### Standard Correlation Coefficient"
   ]
  },
  {
   "cell_type": "code",
   "execution_count": 14,
   "metadata": {},
   "outputs": [],
   "source": [
    "user_cof = np.corrcoef(user_rating_choice)\n",
    "\n",
    "# user_cof"
   ]
  },
  {
   "cell_type": "markdown",
   "metadata": {},
   "source": [
    "## Table of top 5 user similarity"
   ]
  },
  {
   "cell_type": "code",
   "execution_count": 15,
   "metadata": {},
   "outputs": [
    {
     "data": {
      "text/plain": [
       "array([(3,  4, 0.50867442), (2, 14, 0.50087031), (2,  3, 0.49696987),\n",
       "       (3, 16, 0.48982666), (3, 14, 0.48275181)],\n",
       "      dtype=[('user_id', '<i8'), ('user_sim_id', '<i8'), ('sim_score', '<f8')])"
      ]
     },
     "execution_count": 15,
     "metadata": {},
     "output_type": "execute_result"
    }
   ],
   "source": [
    "sim_score = sorted(list(enumerate(user_cse.reshape(-1))), key=lambda x: x[1], reverse=True)\n",
    "sim_sort_score =  list(filter( lambda x:( x[0]// N_CHOICE)+(N_CHOICE*(( x[0]-( x[0] % N_CHOICE))//N_CHOICE)) > x[0], sim_score))\n",
    "user_cse_top5 = np.array([(i%N_CHOICE, i//N_CHOICE, score) for i, score in sim_sort_score[:5]], dtype=[('user_id', '<i8'), ('user_sim_id', '<i8'), ('sim_score', '<f8')])\n",
    "\n",
    "user_cse_top5"
   ]
  },
  {
   "cell_type": "code",
   "execution_count": 16,
   "metadata": {},
   "outputs": [
    {
     "data": {
      "text/plain": [
       "array([(3,  4, 0.50634176), (2, 14, 0.49631147), (2,  3, 0.49313311),\n",
       "       (3, 16, 0.4880936 ), (3, 14, 0.47774565)],\n",
       "      dtype=[('user_id', '<i8'), ('user_sim_id', '<i8'), ('sim_score', '<f8')])"
      ]
     },
     "execution_count": 16,
     "metadata": {},
     "output_type": "execute_result"
    }
   ],
   "source": [
    "sim_score = sorted(list(enumerate(user_cof.reshape(-1))), key=lambda x: x[1], reverse=True)\n",
    "sim_sort_score =  list(filter( lambda x:( x[0]// N_CHOICE)+(N_CHOICE*(( x[0]-( x[0] % N_CHOICE))//N_CHOICE)) > x[0], sim_score))\n",
    "user_cof_top5 = np.array([(i%N_CHOICE, i//N_CHOICE, score) for i, score in sim_sort_score[:5]], dtype=[('user_id', '<i8'), ('user_sim_id', '<i8'), ('sim_score', '<f8')])\n",
    "\n",
    "user_cof_top5"
   ]
  },
  {
   "cell_type": "markdown",
   "metadata": {},
   "source": [
    "## Table of top 5 user neg similarity"
   ]
  },
  {
   "cell_type": "code",
   "execution_count": 17,
   "metadata": {},
   "outputs": [
    {
     "data": {
      "text/plain": [
       "array([( 7, 11, -0.00451185), ( 8,  9, -0.00413044),\n",
       "       (13, 17, -0.00357739), (11, 17, -0.00239969),\n",
       "       ( 9, 17, -0.00197295)],\n",
       "      dtype=[('user_id', '<i8'), ('user_sim_id', '<i8'), ('sim_score', '<f8')])"
      ]
     },
     "execution_count": 17,
     "metadata": {},
     "output_type": "execute_result"
    }
   ],
   "source": [
    "sim_score = sorted(list(enumerate(user_cof.reshape(-1))), key=lambda x: x[1])\n",
    "sim_sort_score =  list(filter( lambda x:( x[0]// N_CHOICE)+(N_CHOICE*(( x[0]-( x[0] % N_CHOICE))//N_CHOICE)) > x[0], sim_score))\n",
    "user_neg_cof_top5 = np.array([(i%N_CHOICE, i//N_CHOICE, score) for i, score in sim_sort_score[:5]], dtype=[('user_id', '<i8'), ('user_sim_id', '<i8'), ('sim_score', '<f8')])\n",
    "\n",
    "user_neg_cof_top5"
   ]
  },
  {
   "cell_type": "markdown",
   "metadata": {},
   "source": [
    "## Heatmap similarity"
   ]
  },
  {
   "cell_type": "code",
   "execution_count": 18,
   "metadata": {},
   "outputs": [
    {
     "data": {
      "text/plain": [
       "[Text(0, 0, '198'),\n",
       " Text(0, 0, '117'),\n",
       " Text(0, 0, '37'),\n",
       " Text(0, 0, '469'),\n",
       " Text(0, 0, '132'),\n",
       " Text(0, 0, '253'),\n",
       " Text(0, 0, '75'),\n",
       " Text(0, 0, '358'),\n",
       " Text(0, 0, '503'),\n",
       " Text(0, 0, '277'),\n",
       " Text(0, 0, '336'),\n",
       " Text(0, 0, '471'),\n",
       " Text(0, 0, '312'),\n",
       " Text(0, 0, '343'),\n",
       " Text(0, 0, '313'),\n",
       " Text(0, 0, '287'),\n",
       " Text(0, 0, '573'),\n",
       " Text(0, 0, '292'),\n",
       " Text(0, 0, '98'),\n",
       " Text(0, 0, '124')]"
      ]
     },
     "execution_count": 18,
     "metadata": {},
     "output_type": "execute_result"
    },
    {
     "data": {
      "image/png": "[encoded data removed]",
      "text/plain": [
       "<Figure size 576x576 with 2 Axes>"
      ]
     },
     "metadata": {
      "needs_background": "light"
     },
     "output_type": "display_data"
    }
   ],
   "source": [
    "fig, ax = plt.subplots()\n",
    "im = ax.imshow(user_cof)\n",
    "fig.colorbar(im)\n",
    "ax.set_xticks(np.arange(user_id_choice.shape[0]))\n",
    "ax.set_yticks(np.arange(user_id_choice.shape[0]))\n",
    "ax.set_yticklabels(user_id_choice)\n",
    "ax.set_xticklabels(user_id_choice)"
   ]
  },
  {
   "cell_type": "markdown",
   "metadata": {},
   "source": [
    "### Graph similarity"
   ]
  },
  {
   "cell_type": "code",
   "execution_count": 19,
   "metadata": {},
   "outputs": [],
   "source": [
    "G = nx.Graph()\n",
    "\n",
    "for i in user_id_choice:\n",
    "    G.add_node(i)\n",
    "\n",
    "Th = [0.5, 0.4, 0.3, 0.006, 0.005, 0.004]\n",
    "Col = ['#001eff', '#00e5ff', '#00ffd0', '#ff0000', '#ff9900', '#fff200']\n",
    "Wid = [300, 200, 100, 300, 200, 100]\n",
    "\n",
    "for x in range(user_id_choice.shape[0]):\n",
    "    for y in range(user_id_choice.shape[0]):\n",
    "        for i in range(3):\n",
    "            if user_cof[x, y] > Th[i]:\n",
    "                G.add_edge(\n",
    "                    user_id_choice[x],user_id_choice[y],\n",
    "                    weight = 1,\n",
    "                    color=Col[i],width=Wid[i])\n",
    "                break\n",
    "        for i in range(3, 6):\n",
    "            if -1*user_cof[x, y] > Th[i]:\n",
    "                G.add_edge(\n",
    "                    user_id_choice[x],user_id_choice[y],\n",
    "                    weight = 1,\n",
    "                    color=Col[i],width=Wid[i]) \n",
    "                break"
   ]
  },
  {
   "cell_type": "code",
   "execution_count": 20,
   "metadata": {},
   "outputs": [
    {
     "data": {
      "image/png": "[encoded data removed]",
      "text/plain": [
       "<Figure size 576x576 with 1 Axes>"
      ]
     },
     "metadata": {},
     "output_type": "display_data"
    }
   ],
   "source": [
    "pos = nx.circular_layout(G)\n",
    "\n",
    "edges = G.edges()\n",
    "colors = [G[u][v]['color'] for u,v in edges]\n",
    "weights = [G[u][v]['weight'] for u,v in edges]\n",
    "\n",
    "nx.draw(G, pos,with_labels = True, edges=edges, edge_color=colors, width=weights,node_color='#A0CBE2',node_size=800)"
   ]
  },
  {
   "cell_type": "markdown",
   "metadata": {},
   "source": [
    "## Table of hight movie rating chose suggestm"
   ]
  },
  {
   "cell_type": "code",
   "execution_count": 21,
   "metadata": {},
   "outputs": [
    {
     "data": {
      "text/plain": [
       "[(198, 287),\n",
       " (117, 75),\n",
       " (37, 313),\n",
       " (469, 132),\n",
       " (132, 469),\n",
       " (253, 132),\n",
       " (75, 253),\n",
       " (358, 253),\n",
       " (503, 287),\n",
       " (277, 132),\n",
       " (336, 469),\n",
       " (471, 253),\n",
       " (312, 287),\n",
       " (343, 253),\n",
       " (313, 37),\n",
       " (287, 312),\n",
       " (573, 469),\n",
       " (292, 358),\n",
       " (98, 573),\n",
       " (124, 75)]"
      ]
     },
     "execution_count": 21,
     "metadata": {},
     "output_type": "execute_result"
    }
   ],
   "source": [
    "user_s = []\n",
    "for i in range(user_cof.shape[0]):\n",
    "    score = sorted(list(enumerate(user_cof[i])), key = lambda x:x[1], reverse=True)\n",
    "    user_s.append((i ,score[1][0]))\n",
    "    \n",
    "user_sim = [(user_id_choice[i], user_id_choice[j]) for i, j in user_s]\n",
    "\n",
    "user_sim"
   ]
  },
  {
   "cell_type": "code",
   "execution_count": 22,
   "metadata": {},
   "outputs": [
    {
     "data": {
      "text/plain": [
       "array([(198, 287, 'Heavenly Creatures (1994)', 5. ),\n",
       "       (117,  75, 'Star Wars: Episode IV - A New Hope (1977)', 5. ),\n",
       "       ( 37, 313, 'Seven (a.k.a. Se7en) (1995)', 5. ),\n",
       "       (469, 132, 'Shawshank Redemption, The (1994)', 4.5),\n",
       "       (132, 469, 'Twelve Monkeys (a.k.a. 12 Monkeys) (1995)', 5. ),\n",
       "       (253, 132, 'Shawshank Redemption, The (1994)', 4.5),\n",
       "       ( 75, 253, 'Farewell My Concubine (Ba wang bie ji) (1993)', 5. ),\n",
       "       (358, 253, 'Farewell My Concubine (Ba wang bie ji) (1993)', 5. ),\n",
       "       (503, 287, 'Heavenly Creatures (1994)', 5. ),\n",
       "       (277, 132, 'Shawshank Redemption, The (1994)', 4.5),\n",
       "       (336, 469, 'Twelve Monkeys (a.k.a. 12 Monkeys) (1995)', 5. ),\n",
       "       (471, 253, 'Farewell My Concubine (Ba wang bie ji) (1993)', 5. ),\n",
       "       (312, 287, 'Heavenly Creatures (1994)', 5. ),\n",
       "       (343, 253, 'Farewell My Concubine (Ba wang bie ji) (1993)', 5. ),\n",
       "       (313,  37, 'Apollo 13 (1995)', 5. ),\n",
       "       (287, 312, 'Taxi Driver (1976)', 5. ),\n",
       "       (573, 469, 'Twelve Monkeys (a.k.a. 12 Monkeys) (1995)', 5. ),\n",
       "       (292, 358, 'Titanic (1997)', 5. ),\n",
       "       ( 98, 573, 'Toy Story (1995)', 5. ),\n",
       "       (124,  75, 'Star Wars: Episode IV - A New Hope (1977)', 5. )],\n",
       "      dtype=[('user_id', '<i8'), ('user_similarity_id', '<i8'), ('title', '<U158'), ('rating', '<f8')])"
      ]
     },
     "execution_count": 22,
     "metadata": {},
     "output_type": "execute_result"
    }
   ],
   "source": [
    "g = []\n",
    "for i in user_sim:\n",
    "    ai = ratings[(ratings['userId'] == i[1])]['rating'].argmax(axis=0)\n",
    "    rt = ratings[(ratings['userId'] == i[1])][ai]\n",
    "    mv = movies[movies['movieId'] == rt['movieId']]\n",
    "    g.append((i[0], i[1], mv['title'][0], rt['rating']))\n",
    "\n",
    "user_suggest = np.array(g, dtype=[('user_id', '<i8'), ('user_similarity_id', '<i8'), ('title', '<U158'), ('rating', '<f8')])\n",
    "\n",
    "user_suggest"
   ]
  },
  {
   "cell_type": "markdown",
   "metadata": {},
   "source": [
    "## Table of hight movie rating not chose suggestm"
   ]
  },
  {
   "cell_type": "code",
   "execution_count": 23,
   "metadata": {},
   "outputs": [
    {
     "data": {
      "text/plain": [
       "[(198, 292),\n",
       " (117, 503),\n",
       " (37, 75),\n",
       " (469, 471),\n",
       " (132, 292),\n",
       " (253, 292),\n",
       " (75, 98),\n",
       " (358, 98),\n",
       " (503, 573),\n",
       " (277, 292),\n",
       " (336, 124),\n",
       " (471, 292),\n",
       " (312, 292),\n",
       " (343, 117),\n",
       " (313, 503),\n",
       " (287, 98),\n",
       " (573, 124),\n",
       " (292, 471),\n",
       " (98, 124),\n",
       " (124, 336)]"
      ]
     },
     "execution_count": 23,
     "metadata": {},
     "output_type": "execute_result"
    }
   ],
   "source": [
    "user_s = []\n",
    "for i in range(user_cof.shape[0]):\n",
    "    score = sorted(list(enumerate(user_cof[i])), key = lambda x:x[1])\n",
    "    user_s.append((i ,score[1][0]))\n",
    "    \n",
    "user_sim_neg = [(user_id_choice[i], user_id_choice[j]) for i, j in user_s]\n",
    "\n",
    "user_sim_neg"
   ]
  },
  {
   "cell_type": "code",
   "execution_count": 24,
   "metadata": {},
   "outputs": [
    {
     "data": {
      "text/plain": [
       "array([(198, 292, 'Shawshank Redemption, The (1994)', 5.),\n",
       "       (117, 503, 'Basketball Diaries, The (1995)', 5.),\n",
       "       ( 37,  75, 'Star Wars: Episode IV - A New Hope (1977)', 5.),\n",
       "       (469, 471, 'Toy Story (1995)', 5.),\n",
       "       (132, 292, 'Shawshank Redemption, The (1994)', 5.),\n",
       "       (253, 292, 'Shawshank Redemption, The (1994)', 5.),\n",
       "       ( 75,  98, 'Forrest Gump (1994)', 5.),\n",
       "       (358,  98, 'Forrest Gump (1994)', 5.),\n",
       "       (503, 573, 'Toy Story (1995)', 5.),\n",
       "       (277, 292, 'Shawshank Redemption, The (1994)', 5.),\n",
       "       (336, 124, 'Forrest Gump (1994)', 5.),\n",
       "       (471, 292, 'Shawshank Redemption, The (1994)', 5.),\n",
       "       (312, 292, 'Shawshank Redemption, The (1994)', 5.),\n",
       "       (343, 117, 'Braveheart (1995)', 5.),\n",
       "       (313, 503, 'Basketball Diaries, The (1995)', 5.),\n",
       "       (287,  98, 'Forrest Gump (1994)', 5.),\n",
       "       (573, 124, 'Forrest Gump (1994)', 5.),\n",
       "       (292, 471, 'Toy Story (1995)', 5.),\n",
       "       ( 98, 124, 'Forrest Gump (1994)', 5.),\n",
       "       (124, 336, 'Usual Suspects, The (1995)', 5.)],\n",
       "      dtype=[('user_id', '<i8'), ('user_similarity_id', '<i8'), ('title', '<U158'), ('rating', '<f8')])"
      ]
     },
     "execution_count": 24,
     "metadata": {},
     "output_type": "execute_result"
    }
   ],
   "source": [
    "g = []\n",
    "for i in user_sim_neg:\n",
    "    ai = ratings[(ratings['userId'] == i[1])]['rating'].argmax(axis=0)\n",
    "    rt = ratings[(ratings['userId'] == i[1])][ai]\n",
    "    mv = movies[movies['movieId'] == rt['movieId']]\n",
    "    g.append((i[0], i[1], mv['title'][0], rt['rating']))\n",
    "\n",
    "user_suggest = np.array(g, dtype=[('user_id', '<i8'), ('user_similarity_id', '<i8'), ('title', '<U158'), ('rating', '<f8')])\n",
    "\n",
    "user_suggest"
   ]
  },
  {
   "cell_type": "markdown",
   "metadata": {},
   "source": [
    "## Rec Sys from item_matrix"
   ]
  },
  {
   "cell_type": "code",
   "execution_count": 25,
   "metadata": {},
   "outputs": [],
   "source": [
    "genre_id_choice = np.random.choice(movies.shape[0], N_CHOICE)\n",
    "genre_choice = movies_genres[genre_id_choice].view(np.bool).reshape(-1, genres.shape[0])"
   ]
  },
  {
   "cell_type": "code",
   "execution_count": 26,
   "metadata": {},
   "outputs": [],
   "source": [
    "genre_cse = cosine_similarity(genre_choice)\n",
    "genre_cof = np.corrcoef(genre_cse)"
   ]
  },
  {
   "cell_type": "markdown",
   "metadata": {},
   "source": [
    "## Table of top 5 genres similarity"
   ]
  },
  {
   "cell_type": "code",
   "execution_count": 27,
   "metadata": {},
   "outputs": [
    {
     "data": {
      "text/plain": [
       "array([( 4.,  9., 'Waiting to Exhale (1995)', 'Sudden Death (1995)', 1.        ),\n",
       "       ( 1., 12., 'Toy Story (1995)', 'Dracula: Dead and Loving It (1995)', 1.        ),\n",
       "       ( 1., 17., 'Toy Story (1995)', 'Sense and Sensibility (1995)', 1.        ),\n",
       "       (12., 17., 'Dracula: Dead and Loving It (1995)', 'Sense and Sensibility (1995)', 1.        ),\n",
       "       (11., 13., 'American President, The (1995)', 'Balto (1995)', 0.95740627)],\n",
       "      dtype=[('movie_id', '<f8'), ('movid_sim_id', '<f8'), ('movie_title', '<U158'), ('movie_sim_title', '<U158'), ('sim_score', '<f8')])"
      ]
     },
     "execution_count": 27,
     "metadata": {},
     "output_type": "execute_result"
    }
   ],
   "source": [
    "sim_score = sorted(list(enumerate(genre_cof.reshape(-1))), key=lambda x: x[1], reverse=True)\n",
    "sim_sort_score =  list(filter( lambda x:( x[0]// N_CHOICE)+(N_CHOICE*(( x[0]-( x[0] % N_CHOICE))//N_CHOICE)) > x[0], sim_score))\n",
    "genre_cse_top5 = np.array([(i%N_CHOICE, i//N_CHOICE, movies[movies['movieId'] == i%N_CHOICE]['title'][0], movies[movies['movieId'] == i//N_CHOICE]['title'][0], score) for i, score in sim_sort_score[:5]], dtype=[('movie_id', '<f8'), ('movid_sim_id', '<f8'), ('movie_title', '<U158'), ('movie_sim_title', '<U158'), ('sim_score', '<f8')])\n",
    "\n",
    "genre_cse_top5"
   ]
  },
  {
   "cell_type": "markdown",
   "metadata": {},
   "source": [
    "## Table of top 5 genres not similarity"
   ]
  },
  {
   "cell_type": "code",
   "execution_count": 28,
   "metadata": {},
   "outputs": [
    {
     "data": {
      "text/plain": [
       "array([(14., 18., 'Nixon (1995)', 'Four Rooms (1995)', -0.79954781),\n",
       "       (14., 19., 'Nixon (1995)', 'Ace Ventura: When Nature Calls (1995)', -0.79248687),\n",
       "       ( 4., 18., 'Waiting to Exhale (1995)', 'Four Rooms (1995)', -0.76923304),\n",
       "       ( 9., 18., 'Sudden Death (1995)', 'Four Rooms (1995)', -0.76923304),\n",
       "       (15., 18., 'Cutthroat Island (1995)', 'Four Rooms (1995)', -0.7598282 )],\n",
       "      dtype=[('movie_id', '<f8'), ('movid_sim_id', '<f8'), ('movie_title', '<U158'), ('movie_sim_title', '<U158'), ('sim_score', '<f8')])"
      ]
     },
     "execution_count": 28,
     "metadata": {},
     "output_type": "execute_result"
    }
   ],
   "source": [
    "sim_score = sorted(list(enumerate(genre_cof.reshape(-1))), key=lambda x: x[1])\n",
    "sim_sort_score =  list(filter( lambda x:( x[0]// N_CHOICE)+(N_CHOICE*(( x[0]-( x[0] % N_CHOICE))//N_CHOICE)) > x[0], sim_score))\n",
    "genre_cse_neg_top5 = np.array([(i%N_CHOICE, i//N_CHOICE, movies[movies['movieId'] == i%N_CHOICE]['title'][0], movies[movies['movieId'] == i//N_CHOICE]['title'][0], score) for i, score in sim_sort_score[:5]], dtype=[('movie_id', '<f8'), ('movid_sim_id', '<f8'), ('movie_title', '<U158'), ('movie_sim_title', '<U158'), ('sim_score', '<f8')])\n",
    "\n",
    "genre_cse_neg_top5"
   ]
  },
  {
   "cell_type": "markdown",
   "metadata": {},
   "source": [
    "## Table of hight movie rating chose suggestm"
   ]
  },
  {
   "cell_type": "code",
   "execution_count": 29,
   "metadata": {},
   "outputs": [
    {
     "data": {
      "text/plain": [
       "array([(  1,  1, 'Toy Story (1995)', 'Dracula: Dead and Loving It (1995)', 1.        , 4. ),\n",
       "       (  5,  1, 'Toy Story (1995)', 'Dracula: Dead and Loving It (1995)', 1.        , 4. ),\n",
       "       (  7,  1, 'Toy Story (1995)', 'Dracula: Dead and Loving It (1995)', 1.        , 4.5),\n",
       "       ( 17,  1, 'Toy Story (1995)', 'Dracula: Dead and Loving It (1995)', 1.        , 4.5),\n",
       "       ( 18,  1, 'Toy Story (1995)', 'Dracula: Dead and Loving It (1995)', 1.        , 3.5),\n",
       "       (  1,  1, 'Toy Story (1995)', 'Sense and Sensibility (1995)', 1.        , 4. ),\n",
       "       (  5,  1, 'Toy Story (1995)', 'Sense and Sensibility (1995)', 1.        , 4. ),\n",
       "       (  7,  1, 'Toy Story (1995)', 'Sense and Sensibility (1995)', 1.        , 4.5),\n",
       "       ( 17,  1, 'Toy Story (1995)', 'Sense and Sensibility (1995)', 1.        , 4.5),\n",
       "       ( 18,  1, 'Toy Story (1995)', 'Sense and Sensibility (1995)', 1.        , 3.5),\n",
       "       (274, 12, 'Dracula: Dead and Loving It (1995)', 'Sense and Sensibility (1995)', 1.        , 3.5),\n",
       "       (276, 12, 'Dracula: Dead and Loving It (1995)', 'Sense and Sensibility (1995)', 1.        , 4. ),\n",
       "       (351, 12, 'Dracula: Dead and Loving It (1995)', 'Sense and Sensibility (1995)', 1.        , 5. ),\n",
       "       (380, 12, 'Dracula: Dead and Loving It (1995)', 'Sense and Sensibility (1995)', 1.        , 4. ),\n",
       "       (  6, 11, 'American President, The (1995)', 'Balto (1995)', 0.95740627, 4. ),\n",
       "       (  8, 11, 'American President, The (1995)', 'Balto (1995)', 0.95740627, 4. ),\n",
       "       ( 35, 11, 'American President, The (1995)', 'Balto (1995)', 0.95740627, 4. ),\n",
       "       ( 38, 11, 'American President, The (1995)', 'Balto (1995)', 0.95740627, 5. ),\n",
       "       ( 42, 11, 'American President, The (1995)', 'Balto (1995)', 0.95740627, 5. )],\n",
       "      dtype=[('user_id', '<i8'), ('movie_id', '<i8'), ('movie_title', '<U158'), ('movie_suggest_title', '<U158'), ('sim_score', '<f8'), ('rating', '<f8')])"
      ]
     },
     "execution_count": 29,
     "metadata": {},
     "output_type": "execute_result"
    }
   ],
   "source": [
    "g = []\n",
    "for i in genre_cse_top5:\n",
    "    ai = ratings[(ratings['movieId'] == i['movie_id']) & (ratings['rating'] > 3)][:5]\n",
    "    for aai in ai:\n",
    "        g.append((aai[0], i[0], i[2], i[3], i[4], aai[2]))\n",
    "\n",
    "user_suggest = np.array(g, dtype=[('user_id', '<i8'), ('movie_id', '<i8'), ('movie_title', '<U158'), ('movie_suggest_title', '<U158'), ('sim_score', '<f8'), ('rating', '<f8')])\n",
    "\n",
    "user_suggest"
   ]
  }
 ],
 "metadata": {
  "kernelspec": {
   "display_name": "Python 3",
   "language": "python",
   "name": "python3"
  },
  "language_info": {
   "codemirror_mode": {
    "name": "ipython",
    "version": 3
   },
   "file_extension": ".py",
   "mimetype": "text/x-python",
   "name": "python",
   "nbconvert_exporter": "python",
   "pygments_lexer": "ipython3",
   "version": "3.6.8"
  }
 },
 "nbformat": 4,
 "nbformat_minor": 2
}
